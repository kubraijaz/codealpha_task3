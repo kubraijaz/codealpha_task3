{
  "nbformat": 4,
  "nbformat_minor": 0,
  "metadata": {
    "colab": {
      "provenance": []
    },
    "kernelspec": {
      "name": "python3",
      "display_name": "Python 3"
    },
    "language_info": {
      "name": "python"
    }
  },
  "cells": [
    {
      "cell_type": "code",
      "execution_count": 1,
      "metadata": {
        "colab": {
          "base_uri": "https://localhost:8080/"
        },
        "id": "D3eElrmTgdHZ",
        "outputId": "620eb396-ecd0-432a-dabd-94e22a788dc6"
      },
      "outputs": [
        {
          "output_type": "stream",
          "name": "stdout",
          "text": [
            "Hello! I'm your chatbot. Type 'bye' to exit.\n",
            "You: Hello\n",
            "ChatBot: Hey!\n",
            "You: How are you?\n",
            "ChatBot: I'm doing well, thanks for asking!\n",
            "You: what can you do?\n",
            "ChatBot: I can have simple conversations with you.\n",
            "You: bye\n",
            "ChatBot: Goodbye! Have a great day!\n"
          ]
        }
      ],
      "source": [
        "# Basic Chatbot\n",
        "import nltk\n",
        "from nltk.chat.util import Chat, reflections\n",
        "\n",
        "pairs = [\n",
        "    [r\"hi|hello|hey\", [\"Hello!\", \"Hi there!\", \"Hey!\"]],\n",
        "    [r\"how are you\", [\"I'm doing well, thanks for asking!\", \"I'm good! How about you?\"]],\n",
        "    [r\"(.*) your name\", [\"I'm a chatbot created for conversation!\", \"You can call me ChatBot.\"]],\n",
        "    [r\"what can you do\", [\"I can have simple conversations with you.\", \"I can respond to basic greetings and questions.\"]],\n",
        "    [r\"bye|goodbye\", [\"Goodbye! Have a great day!\", \"Bye! See you soon!\"]],\n",
        "    [r\"(.*)\", [\"I'm not sure how to respond to that.\", \"Can you rephrase your question?\"]]\n",
        "]\n",
        "\n",
        "chatbot = Chat(pairs, reflections)\n",
        "\n",
        "def start_chat():\n",
        "    print(\"Hello! I'm your chatbot. Type 'bye' to exit.\")\n",
        "    while True:\n",
        "        user_input = input(\"You: \").lower()\n",
        "        if user_input == 'bye':\n",
        "            print(\"ChatBot: Goodbye! Have a great day!\")\n",
        "            break\n",
        "        response = chatbot.respond(user_input)\n",
        "        print(\"ChatBot:\", response)\n",
        "\n",
        "if __name__ == \"__main__\":\n",
        "    start_chat()"
      ]
    },
    {
      "cell_type": "code",
      "source": [],
      "metadata": {
        "id": "iCWl__gFgkMf"
      },
      "execution_count": null,
      "outputs": []
    }
  ]
}